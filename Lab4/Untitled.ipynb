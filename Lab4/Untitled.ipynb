{
 "cells": [
  {
   "cell_type": "code",
   "execution_count": 1,
   "id": "b35c196d",
   "metadata": {},
   "outputs": [
    {
     "name": "stdout",
     "output_type": "stream",
     "text": [
      "Percentage uncertainty: 0.00%\n"
     ]
    }
   ],
   "source": [
    "import numpy as np\n",
    "\n",
    "# Calibration data points\n",
    "distances = np.array([5, 55, 105, 155, 205])\n",
    "measured_distances = np.array([2.901826011, 43.89391744, 84.88600886, 125.8781003, 166.8701917])\n",
    "\n",
    "# Perform linear regression\n",
    "slope, intercept = np.polyfit(distances, measured_distances, 1)\n",
    "\n",
    "# Calculate residuals (difference between measured and predicted distances)\n",
    "residuals = measured_distances - (slope * distances + intercept)\n",
    "\n",
    "# Calculate standard deviation of residuals\n",
    "std_dev_residuals = np.std(residuals)\n",
    "\n",
    "# Calculate full-scale range of the calibration\n",
    "full_scale_range = distances.max() - distances.min()\n",
    "\n",
    "# Calculate percentage uncertainty\n",
    "percent_uncertainty = (std_dev_residuals / full_scale_range) * 100\n",
    "\n",
    "# Print the calculated percentage uncertainty\n",
    "print(f\"Percentage uncertainty: {percent_uncertainty:.2f}%\")"
   ]
  },
  {
   "cell_type": "code",
   "execution_count": 2,
   "id": "2276c06c",
   "metadata": {},
   "outputs": [
    {
     "name": "stdout",
     "output_type": "stream",
     "text": [
      "Calibrated Distances:\n",
      "Distance 1: 7.43350\n",
      "Distance 2: 67.80850\n",
      "Distance 3: 128.18350\n",
      "Distance 4: 188.55850\n",
      "Distance 5: 248.93350\n"
     ]
    }
   ],
   "source": [
    "# Given data\n",
    "actual_distances = [5, 55, 105, 155, 205]  # Actual distances\n",
    "\n",
    "# Calculated slope and y-intercept from previous calculation\n",
    "m = 1.2075\n",
    "c = 1.396\n",
    "\n",
    "# Calculate calibrated distances\n",
    "calibrated_distances = [(m * X + c) for X in actual_distances]\n",
    "\n",
    "# Print the calibrated distances\n",
    "print(\"Calibrated Distances:\")\n",
    "for i, distance in enumerate(calibrated_distances, 1):\n",
    "    print(\"Distance {}: {:.5f}\".format(i, distance))\n"
   ]
  },
  {
   "cell_type": "code",
   "execution_count": null,
   "id": "dc96b072",
   "metadata": {},
   "outputs": [],
   "source": []
  }
 ],
 "metadata": {
  "kernelspec": {
   "display_name": "Python 3 (ipykernel)",
   "language": "python",
   "name": "python3"
  },
  "language_info": {
   "codemirror_mode": {
    "name": "ipython",
    "version": 3
   },
   "file_extension": ".py",
   "mimetype": "text/x-python",
   "name": "python",
   "nbconvert_exporter": "python",
   "pygments_lexer": "ipython3",
   "version": "3.11.5"
  }
 },
 "nbformat": 4,
 "nbformat_minor": 5
}
