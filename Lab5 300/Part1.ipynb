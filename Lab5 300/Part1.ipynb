{
 "cells": [
  {
   "cell_type": "code",
   "execution_count": 1,
   "id": "5cf78266",
   "metadata": {},
   "outputs": [
    {
     "ename": "ModuleNotFoundError",
     "evalue": "No module named 'board'",
     "output_type": "error",
     "traceback": [
      "\u001b[1;31m---------------------------------------------------------------------------\u001b[0m",
      "\u001b[1;31mModuleNotFoundError\u001b[0m                       Traceback (most recent call last)",
      "Cell \u001b[1;32mIn[1], line 5\u001b[0m\n\u001b[0;32m      1\u001b[0m \u001b[38;5;66;03m#********************************************************************\u001b[39;00m\n\u001b[0;32m      2\u001b[0m \u001b[38;5;66;03m#   importing packages already on the RPi into this Python program  *\u001b[39;00m\n\u001b[0;32m      3\u001b[0m \u001b[38;5;66;03m#********************************************************************\u001b[39;00m\n\u001b[1;32m----> 5\u001b[0m \u001b[38;5;28;01mimport\u001b[39;00m \u001b[38;5;21;01mboard\u001b[39;00m\n\u001b[0;32m      6\u001b[0m \u001b[38;5;28;01mimport\u001b[39;00m \u001b[38;5;21;01mbusio\u001b[39;00m\n\u001b[0;32m      7\u001b[0m \u001b[38;5;28;01mimport\u001b[39;00m \u001b[38;5;21;01mdigitalio\u001b[39;00m\n",
      "\u001b[1;31mModuleNotFoundError\u001b[0m: No module named 'board'"
     ]
    }
   ],
   "source": [
    "#********************************************************************\n",
    "#   importing packages already on the RPi into this Python program  *\n",
    "#********************************************************************\n",
    "\n",
    "import board\n",
    "import busio\n",
    "import digitalio\n",
    "import adafruit_max31856\n",
    "\n",
    "#***********************************\n",
    "#   Setting up the thermocouple    *\n",
    "#***********************************\n",
    "\n",
    "# create an SPI object\n",
    "spi = busio.SPI(board.SCK, board.MOSI, board.MISO)\n",
    "\n",
    "# allocate a Chip Select pin for the thermocouple (CS pin) and set the direction\n",
    "cs = digitalio.DigitalInOut(board.D5)\n",
    "cs.direction = digitalio.Direction.OUTPUT\n",
    "\n",
    "# create a thermocouple object with the above\n",
    "thermocouple = adafruit_max31856.MAX31856(spi, cs)\n",
    "\n",
    "#*******************************************************************\n",
    "#**    reading the thermocouple and printing output on screen      *\n",
    "#*******************************************************************\n",
    "\n",
    "print(thermocouple.temperature, \"C\")\n",
    "print(str(thermocouple.temperature * 9 / 5 + 32), \"F\")\n",
    "\n",
    "with open(\"thermodata.csv\", \"a\") as log:\n",
    "    log.write(\"\\n\" + \"Celcius,Farenheit)\")\n",
    "for x in range(30):\n",
    "    with open(\"thermodata.csv\", \"a\") as log:\n",
    "        log.write(\"\\n{0}, {1}\".format(str(thermocouple.temperature),str(thermocouple.temperature*9/5+32)))"
   ]
  },
  {
   "cell_type": "code",
   "execution_count": null,
   "id": "d1bf3af6",
   "metadata": {},
   "outputs": [],
   "source": []
  }
 ],
 "metadata": {
  "kernelspec": {
   "display_name": "Python 3 (ipykernel)",
   "language": "python",
   "name": "python3"
  },
  "language_info": {
   "codemirror_mode": {
    "name": "ipython",
    "version": 3
   },
   "file_extension": ".py",
   "mimetype": "text/x-python",
   "name": "python",
   "nbconvert_exporter": "python",
   "pygments_lexer": "ipython3",
   "version": "3.11.5"
  }
 },
 "nbformat": 4,
 "nbformat_minor": 5
}
