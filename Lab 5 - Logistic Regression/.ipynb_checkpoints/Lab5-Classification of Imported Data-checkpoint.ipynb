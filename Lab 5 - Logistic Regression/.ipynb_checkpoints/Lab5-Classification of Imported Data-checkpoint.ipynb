{
 "cells": [
  {
   "cell_type": "markdown",
   "id": "0d0348f6",
   "metadata": {},
   "source": [
    "<h1 style = \"text-align: center\">ISAT341- Machine Learning and Data Science</h1>\n",
    "<h2 style = \"text-align:center\">Lab 5- Classification using Logistic\n",
    "Regression </h2>\n",
    "<img src = \"Images/machine-learning.jpg\" width = 200; height=200>\n",
    "<h2 style = \"text-align: center\"> \n",
    "Logistic Regression Classification with Imported Data (cardiology\n",
    "dataset)<h2>"
   ]
  },
  {
   "cell_type": "markdown",
   "id": "68e03f02",
   "metadata": {},
   "source": [
    "### Brian La Rosa\n",
    "### Objectives\n",
    "- Create and use Machine Learning Models with SciKit Learn\n",
    "- Learn more advanced NumPy (Numerical Python) features\n",
    "- Learn how import data from remote websites (UCI Machine Learning Datasets)\n",
    "- Train-Test Split of data with SciKit Learn\n",
    "- Perform Classification with SciKit Learn\n",
    "- Create Predictive Models\n",
    "- Perform Model Evaluation\n",
    "- Model Score and Accuracy\n",
    "- Compute Class Membership Probabilities\n",
    "- Decision Boundary Plotting with MatPlotLib (not this lab)"
   ]
  },
  {
   "cell_type": "markdown",
   "id": "95c80eab",
   "metadata": {},
   "source": [
    " The lab aims to create and utilize machine learning models with SciKit Learn, advanced NumPy features, and data importation from remote websites like UCI Machine Learning Datasets. Specifically, it tackles classification tasks, emphasizing building models to assign instances to predefined classes. The cardiology dataset used comprises 303 samples of 13 attributes including age, sex, chest pain type, blood pressure, cholesterol levels, and more. The objective is to predict the probability of a patient having heart disease based on these attributes. Logistic regression is applied not only to predict class labels but also to estimate class-membership probabilities, making it valuable in medical contexts like disease prediction.<img src = \"Images/cardiolog_dataset.png\" width = 600; height=600>"
   ]
  },
  {
   "cell_type": "code",
   "execution_count": 18,
   "id": "72fee191",
   "metadata": {},
   "outputs": [],
   "source": [
    "import pandas as pd\n",
    "import numpy as np\n",
    "df = pd.read_csv('Data/CardiologyNumerical_Lab5.csv')\n"
   ]
  },
  {
   "cell_type": "code",
   "execution_count": 19,
   "id": "d7baa158",
   "metadata": {},
   "outputs": [],
   "source": [
    "#defining the features\n",
    "y = df['class'].values\n",
    "X = df[['angina', 'slope', 'thal']].values"
   ]
  },
  {
   "cell_type": "code",
   "execution_count": 20,
   "id": "d8e649a1",
   "metadata": {},
   "outputs": [],
   "source": [
    "from sklearn.model_selection import train_test_split\n",
    "X_train, X_test, y_train, y_test =train_test_split(X, y, test_size =.20, random_state=0)"
   ]
  },
  {
   "cell_type": "code",
   "execution_count": 21,
   "id": "a13365b3",
   "metadata": {},
   "outputs": [
    {
     "name": "stdout",
     "output_type": "stream",
     "text": [
      "X train.shape: (242, 3)\n",
      "y train.shape: (242,)\n",
      "X test.shape: (61, 3)\n",
      "y test.shape: (61,)\n"
     ]
    }
   ],
   "source": [
    "#Displaying the dimensions of the training set\n",
    "print('X train.shape: {}'.format(X_train.shape))\n",
    "print('y train.shape: {}'.format(y_train.shape))\n",
    "#Displaying the dimensions of the test set\n",
    "print('X test.shape: {}'.format(X_test.shape))\n",
    "print('y test.shape: {}'.format(y_test.shape))"
   ]
  },
  {
   "cell_type": "code",
   "execution_count": 22,
   "id": "cc42dae0",
   "metadata": {},
   "outputs": [
    {
     "data": {
      "text/html": [
       "<style>#sk-container-id-2 {color: black;}#sk-container-id-2 pre{padding: 0;}#sk-container-id-2 div.sk-toggleable {background-color: white;}#sk-container-id-2 label.sk-toggleable__label {cursor: pointer;display: block;width: 100%;margin-bottom: 0;padding: 0.3em;box-sizing: border-box;text-align: center;}#sk-container-id-2 label.sk-toggleable__label-arrow:before {content: \"▸\";float: left;margin-right: 0.25em;color: #696969;}#sk-container-id-2 label.sk-toggleable__label-arrow:hover:before {color: black;}#sk-container-id-2 div.sk-estimator:hover label.sk-toggleable__label-arrow:before {color: black;}#sk-container-id-2 div.sk-toggleable__content {max-height: 0;max-width: 0;overflow: hidden;text-align: left;background-color: #f0f8ff;}#sk-container-id-2 div.sk-toggleable__content pre {margin: 0.2em;color: black;border-radius: 0.25em;background-color: #f0f8ff;}#sk-container-id-2 input.sk-toggleable__control:checked~div.sk-toggleable__content {max-height: 200px;max-width: 100%;overflow: auto;}#sk-container-id-2 input.sk-toggleable__control:checked~label.sk-toggleable__label-arrow:before {content: \"▾\";}#sk-container-id-2 div.sk-estimator input.sk-toggleable__control:checked~label.sk-toggleable__label {background-color: #d4ebff;}#sk-container-id-2 div.sk-label input.sk-toggleable__control:checked~label.sk-toggleable__label {background-color: #d4ebff;}#sk-container-id-2 input.sk-hidden--visually {border: 0;clip: rect(1px 1px 1px 1px);clip: rect(1px, 1px, 1px, 1px);height: 1px;margin: -1px;overflow: hidden;padding: 0;position: absolute;width: 1px;}#sk-container-id-2 div.sk-estimator {font-family: monospace;background-color: #f0f8ff;border: 1px dotted black;border-radius: 0.25em;box-sizing: border-box;margin-bottom: 0.5em;}#sk-container-id-2 div.sk-estimator:hover {background-color: #d4ebff;}#sk-container-id-2 div.sk-parallel-item::after {content: \"\";width: 100%;border-bottom: 1px solid gray;flex-grow: 1;}#sk-container-id-2 div.sk-label:hover label.sk-toggleable__label {background-color: #d4ebff;}#sk-container-id-2 div.sk-serial::before {content: \"\";position: absolute;border-left: 1px solid gray;box-sizing: border-box;top: 0;bottom: 0;left: 50%;z-index: 0;}#sk-container-id-2 div.sk-serial {display: flex;flex-direction: column;align-items: center;background-color: white;padding-right: 0.2em;padding-left: 0.2em;position: relative;}#sk-container-id-2 div.sk-item {position: relative;z-index: 1;}#sk-container-id-2 div.sk-parallel {display: flex;align-items: stretch;justify-content: center;background-color: white;position: relative;}#sk-container-id-2 div.sk-item::before, #sk-container-id-2 div.sk-parallel-item::before {content: \"\";position: absolute;border-left: 1px solid gray;box-sizing: border-box;top: 0;bottom: 0;left: 50%;z-index: -1;}#sk-container-id-2 div.sk-parallel-item {display: flex;flex-direction: column;z-index: 1;position: relative;background-color: white;}#sk-container-id-2 div.sk-parallel-item:first-child::after {align-self: flex-end;width: 50%;}#sk-container-id-2 div.sk-parallel-item:last-child::after {align-self: flex-start;width: 50%;}#sk-container-id-2 div.sk-parallel-item:only-child::after {width: 0;}#sk-container-id-2 div.sk-dashed-wrapped {border: 1px dashed gray;margin: 0 0.4em 0.5em 0.4em;box-sizing: border-box;padding-bottom: 0.4em;background-color: white;}#sk-container-id-2 div.sk-label label {font-family: monospace;font-weight: bold;display: inline-block;line-height: 1.2em;}#sk-container-id-2 div.sk-label-container {text-align: center;}#sk-container-id-2 div.sk-container {/* jupyter's `normalize.less` sets `[hidden] { display: none; }` but bootstrap.min.css set `[hidden] { display: none !important; }` so we also need the `!important` here to be able to override the default hidden behavior on the sphinx rendered scikit-learn.org. See: https://github.com/scikit-learn/scikit-learn/issues/21755 */display: inline-block !important;position: relative;}#sk-container-id-2 div.sk-text-repr-fallback {display: none;}</style><div id=\"sk-container-id-2\" class=\"sk-top-container\"><div class=\"sk-text-repr-fallback\"><pre>LogisticRegression(multi_class=&#x27;multinomial&#x27;, random_state=0,\n",
       "                   solver=&#x27;newton-cg&#x27;)</pre><b>In a Jupyter environment, please rerun this cell to show the HTML representation or trust the notebook. <br />On GitHub, the HTML representation is unable to render, please try loading this page with nbviewer.org.</b></div><div class=\"sk-container\" hidden><div class=\"sk-item\"><div class=\"sk-estimator sk-toggleable\"><input class=\"sk-toggleable__control sk-hidden--visually\" id=\"sk-estimator-id-2\" type=\"checkbox\" checked><label for=\"sk-estimator-id-2\" class=\"sk-toggleable__label sk-toggleable__label-arrow\">LogisticRegression</label><div class=\"sk-toggleable__content\"><pre>LogisticRegression(multi_class=&#x27;multinomial&#x27;, random_state=0,\n",
       "                   solver=&#x27;newton-cg&#x27;)</pre></div></div></div></div></div>"
      ],
      "text/plain": [
       "LogisticRegression(multi_class='multinomial', random_state=0,\n",
       "                   solver='newton-cg')"
      ]
     },
     "execution_count": 22,
     "metadata": {},
     "output_type": "execute_result"
    }
   ],
   "source": [
    "#Instantiate the logistic regression class. Building(Fitting) and evaluating models. \n",
    "from sklearn.linear_model import LogisticRegression\n",
    "\n",
    "lr = LogisticRegression(solver = 'newton-cg', multi_class ='multinomial', random_state= 0)\n",
    "\n",
    "lr.fit(X_train, y_train)\n"
   ]
  },
  {
   "cell_type": "code",
   "execution_count": 23,
   "id": "d9914d6b",
   "metadata": {},
   "outputs": [
    {
     "name": "stdout",
     "output_type": "stream",
     "text": [
      "[1 1 1 1 0 1 0 0 0 0 0 1 0 1 1 0 0 0 0 0 1 1 1 0 0 1 0 1 0 0 1 1 0 0 1 1 1\n",
      " 1 1 1 1 0 0 1 0 0 0 0 0 0 1 1 1 0 0 1 1 1 0 0 1]\n",
      "[1 1 1 1 0 1 1 0 1 0 0 0 0 1 1 0 0 0 0 1 1 1 1 1 0 0 0 1 0 0 1 1 0 1 1 1 1\n",
      " 1 0 1 1 0 0 1 1 0 0 1 0 0 1 1 1 0 1 1 1 1 0 0 1]\n",
      "[]\n"
     ]
    },
    {
     "data": {
      "text/plain": [
       "0.819672131147541"
      ]
     },
     "execution_count": 23,
     "metadata": {},
     "output_type": "execute_result"
    }
   ],
   "source": [
    "y_pred= lr.predict(X_test)\n",
    "#Printing the predicted values versus the actual values. \n",
    "print(y_pred)\n",
    "print(y_test)\n",
    "#seperate the wrong values in the pred set. \n",
    "difference = np.setdiff1d(y_pred, y_test)\n",
    "#printing the differtrent values. \n",
    "print(difference)\n",
    "#printing the Accuracy for the model. \n",
    "lr.score(X_test,  y_test)\n"
   ]
  },
  {
   "cell_type": "code",
   "execution_count": 24,
   "id": "b26cf5c9",
   "metadata": {},
   "outputs": [
    {
     "name": "stdout",
     "output_type": "stream",
     "text": [
      "[[0 2 3]\n",
      " [0 1 3]\n",
      " [0 2 3]]\n",
      "[[0.22729701 0.77270299]\n",
      " [0.12138694 0.87861306]\n",
      " [0.22729701 0.77270299]]\n"
     ]
    }
   ],
   "source": [
    "print(X_test[:3,:])\n",
    "print(lr.predict_proba(X_test[:3, :]))"
   ]
  },
  {
   "cell_type": "code",
   "execution_count": 25,
   "id": "d9943c9c",
   "metadata": {},
   "outputs": [
    {
     "name": "stdout",
     "output_type": "stream",
     "text": [
      "[[0.12138694 0.87861306]]\n"
     ]
    }
   ],
   "source": [
    "#The following code prints the probability predictions for a single row of data.\n",
    "#In this particular case, there is a 12% chance of being classified in the negative class,\n",
    "#and then almost an 88% chance of being classified in the posotive class.  \n",
    "print(lr.predict_proba(X_test[1:2]))"
   ]
  },
  {
   "cell_type": "code",
   "execution_count": 26,
   "id": "5a7432f1",
   "metadata": {},
   "outputs": [
    {
     "name": "stdout",
     "output_type": "stream",
     "text": [
      "The coefficients from logistic regression are [[-0.70468141 -0.37786208 -0.25425702]]\n",
      "The intercept from logistic regression is [2.1303138]\n"
     ]
    }
   ],
   "source": [
    "print('The coefficients from logistic regression are {}'.format(lr.coef_))\n",
    "print('The intercept from logistic regression is {}'.format(lr.intercept_))"
   ]
  },
  {
   "cell_type": "code",
   "execution_count": 27,
   "id": "12979320",
   "metadata": {},
   "outputs": [
    {
     "name": "stdout",
     "output_type": "stream",
     "text": [
      "The Predicted Probability: [0.64835553]\n",
      "The Predicted Value for the row: [0.61181858]\n",
      "The Class 1\n"
     ]
    }
   ],
   "source": [
    "#defining the sigmoid function\n",
    "def sigmoid(z):\n",
    "    return 1/(1+np.exp(-z))\n",
    "#Prediction of row 1\n",
    "angina =0\n",
    "slope = 2\n",
    "thal = 3\n",
    "coefs =[-0.70468141, -0.37786208, -0.25425702]\n",
    "\n",
    "z = (coefs[0])*angina + (coefs[1])*slope + (coefs[2])*thal + lr.intercept_\n",
    "print('The Predicted Probability: {}'.format(sigmoid(z)))\n",
    "print('The Predicted Value for the row: {}'.format(z))\n",
    "\n",
    "if (sigmoid(z) >= .5):\n",
    "    class_pred = 1\n",
    "else:\n",
    "    class_pred = 0\n",
    "print('The Class {}'.format((class_pred)))"
   ]
  },
  {
   "cell_type": "code",
   "execution_count": 28,
   "id": "3d02eb53",
   "metadata": {},
   "outputs": [
    {
     "name": "stdout",
     "output_type": "stream",
     "text": [
      "The Predicted Probability: [0.22557013]\n",
      "The Predicted Value for the row: [-1.23349597]\n",
      "The Class 0\n"
     ]
    }
   ],
   "source": [
    "#Prediction of row 2\n",
    "angina =1\n",
    "slope = 3\n",
    "thal = 6\n",
    "z = (coefs[0])*angina + (coefs[1])*slope + (coefs[2])*thal + lr.intercept_\n",
    "print('The Predicted Probability: {}'.format(sigmoid(z)))\n",
    "print('The Predicted Value for the row: {}'.format(z))\n",
    "\n",
    "if (sigmoid(z) >= .5):\n",
    "    class_pred = 1\n",
    "else:\n",
    "    class_pred = 0\n",
    "print('The Class {}'.format((class_pred)))"
   ]
  },
  {
   "cell_type": "code",
   "execution_count": 29,
   "id": "27981b9c",
   "metadata": {},
   "outputs": [
    {
     "name": "stdout",
     "output_type": "stream",
     "text": [
      "The Predicted Probability: [0.57077143]\n",
      "The Predicted Value for the row: [0.28499925]\n",
      "The Class 1\n"
     ]
    }
   ],
   "source": [
    "#Prediction of row 3\n",
    "ngina =0\n",
    "slope = 1\n",
    "thal = 3\n",
    "\n",
    "z = (coefs[0])*angina + (coefs[1])*slope + (coefs[2])*thal + lr.intercept_\n",
    "print('The Predicted Probability: {}'.format(sigmoid(z)))\n",
    "print('The Predicted Value for the row: {}'.format(z))\n",
    "\n",
    "if (sigmoid(z) >= .5):\n",
    "    class_pred = 1\n",
    "else:\n",
    "    class_pred = 0\n",
    "print('The Class {}'.format((class_pred)))"
   ]
  },
  {
   "cell_type": "markdown",
   "id": "17fdf859",
   "metadata": {},
   "source": [
    "| Angina   | Slope    | Thal     |Known Class| Vals from the lr Model | Pred Class from the lr model |\n",
    "|:--------:|:--------:|:--------:|:---------:|:----------------------:| :---------------------------:| \n",
    "| 0        |  2       |  3       |  1        |          0.6483555     | 1                            |\n",
    "|  1       |  3       |  6       |  0        | 0.22557013             |0                             |\n",
    "|  0       |  1       |  3       |  1        | 0.72902484             | 1                            |"
   ]
  },
  {
   "cell_type": "markdown",
   "id": "a197b9b1",
   "metadata": {},
   "source": [
    "The model was able to correctly classify the three rows that were given in this case. This does not mean that it will be accurate for every row of data. "
   ]
  },
  {
   "cell_type": "markdown",
   "id": "ff59473e",
   "metadata": {},
   "source": [
    "### Classification Report"
   ]
  },
  {
   "cell_type": "code",
   "execution_count": 30,
   "id": "b2b378d5",
   "metadata": {},
   "outputs": [
    {
     "name": "stdout",
     "output_type": "stream",
     "text": [
      "Classification report for classifier LogisticRegression(multi_class='multinomial', random_state=0,\n",
      "                   solver='newton-cg') \n",
      "               precision    recall  f1-score   support\n",
      "\n",
      "     0(Sick)       0.74      0.88      0.81        26\n",
      "  1(Healthy)       0.90      0.77      0.83        35\n",
      "\n",
      "    accuracy                           0.82        61\n",
      "   macro avg       0.82      0.83      0.82        61\n",
      "weighted avg       0.83      0.82      0.82        61\n",
      " \n",
      "\n"
     ]
    }
   ],
   "source": [
    "from sklearn import metrics\n",
    "print(\"Classification report for classifier {0} \\n {1:s} \\n\".format(lr,\\\n",
    "                                                           metrics.classification_report(y_test, y_pred, target_names = ['0(Sick)', '1(Healthy)'])))"
   ]
  },
  {
   "cell_type": "markdown",
   "id": "ffc68adc",
   "metadata": {},
   "source": [
    "### Confusion Matrix"
   ]
  },
  {
   "cell_type": "code",
   "execution_count": 31,
   "id": "4e851e5c",
   "metadata": {},
   "outputs": [
    {
     "data": {
      "image/png": "[encoded data removed]",
      "text/plain": [
       "<Figure size 640x480 with 2 Axes>"
      ]
     },
     "metadata": {},
     "output_type": "display_data"
    }
   ],
   "source": [
    "import matplotlib.pyplot as plt\n",
    "from sklearn.metrics import confusion_matrix, ConfusionMatrixDisplay\n",
    "cm = confusion_matrix(y_test, y_pred, labels = lr.classes_)\n",
    "disp =ConfusionMatrixDisplay(confusion_matrix=cm, display_labels = lr.classes_)\n",
    "disp.plot()\n",
    "plt.show()"
   ]
  },
  {
   "cell_type": "markdown",
   "id": "b9d2bfc3",
   "metadata": {},
   "source": [
    "BQ1- (3pts) Based on the output of your classification report and confusion matrix, out\n",
    "of all the times a patient should have been predicted as healthy, what percentage of\n",
    "times were they correctly predicted? Show a simple calculation below (in your\n",
    "notebook) since you already know the answer!\n"
   ]
  },
  {
   "cell_type": "code",
   "execution_count": 32,
   "id": "44335dca",
   "metadata": {},
   "outputs": [
    {
     "name": "stdout",
     "output_type": "stream",
     "text": [
      "The Percetage of correctly predicted values is: 90.00%\n"
     ]
    }
   ],
   "source": [
    "true_pos = 27\n",
    "false_neg = 3\n",
    "correctly_pred = true_pos / (true_pos+false_neg)\n",
    "print(\"The Percetage of correctly predicted values is: {0:.2f}%\".format(correctly_pred *100))"
   ]
  },
  {
   "cell_type": "markdown",
   "id": "8b9cab29",
   "metadata": {},
   "source": [
    "BQ2-(3pts) Based on the output of your classification report and confusion matrix, out\n",
    "of all the times a patient was predicted as sick, what percentage of times were they\n",
    "correctly predicted? Show a simple calculation below (in your notebook) since you\n",
    "already know the answer!\n"
   ]
  },
  {
   "cell_type": "code",
   "execution_count": 33,
   "id": "ba46bf1f",
   "metadata": {},
   "outputs": [
    {
     "name": "stdout",
     "output_type": "stream",
     "text": [
      "The Percetage of correctly predicted values is: 74.19%\n"
     ]
    }
   ],
   "source": [
    "true_pos = 23\n",
    "false_neg = 8\n",
    "correctly_pred = true_pos / (true_pos + false_neg)\n",
    "print(\"The Percetage of correctly predicted values is: {0:.2f}%\".format(correctly_pred *100))"
   ]
  },
  {
   "cell_type": "markdown",
   "id": "7ffdd4e9",
   "metadata": {},
   "source": [
    "BQ3-(1pt) If the recall is 1.0 and the dataset has 8 positive samples, how many\n",
    "positive samples were correctly classified by the model?\n",
    "ANSWER: Since the recall is equal to 1 this means that 8 samples were correctly classified by the model. "
   ]
  },
  {
   "cell_type": "markdown",
   "id": "0097b40f",
   "metadata": {},
   "source": [
    "BQ4- (2pts) Given that the recall is 0.4 when the dataset has 40 positive samples,\n",
    "how many positive samples were correctly classified by the model? (MUST show\n",
    "a simple calculation in your notebook for this one) "
   ]
  },
  {
   "cell_type": "code",
   "execution_count": 34,
   "id": "64848032",
   "metadata": {},
   "outputs": [
    {
     "name": "stdout",
     "output_type": "stream",
     "text": [
      "16.0\n"
     ]
    }
   ],
   "source": [
    "actual_samp =40\n",
    "recall =.4\n",
    "positive_samps =recall*actual_samp\n",
    "print(positive_samps)"
   ]
  },
  {
   "cell_type": "markdown",
   "id": "60c4b4e1",
   "metadata": {},
   "source": [
    "BQ5- (1pt) If the recall is 0.0 and the dataset has 16 positive samples, how many\n",
    "positive samples were correctly classified by the model? \n",
    "ANSWER:0, they would have all been classified incorrectly."
   ]
  },
  {
   "cell_type": "code",
   "execution_count": null,
   "id": "38cb9575",
   "metadata": {},
   "outputs": [],
   "source": []
  }
 ],
 "metadata": {
  "kernelspec": {
   "display_name": "Python 3 (ipykernel)",
   "language": "python",
   "name": "python3"
  },
  "language_info": {
   "codemirror_mode": {
    "name": "ipython",
    "version": 3
   },
   "file_extension": ".py",
   "mimetype": "text/x-python",
   "name": "python",
   "nbconvert_exporter": "python",
   "pygments_lexer": "ipython3",
   "version": "3.11.5"
  }
 },
 "nbformat": 4,
 "nbformat_minor": 5
}
