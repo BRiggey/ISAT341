{
 "cells": [
  {
   "cell_type": "markdown",
   "id": "9e217e41",
   "metadata": {},
   "source": [
    "<h1 style = \"text-align: center\">ISAT341- Machine Learning and Data Science</h1>\n",
    "<h2 style = \"text-align:center\">Lab4-Classification of Imported Data </h2>\n",
    "<img src = \"Images/machine-learning.jpg\" width = 200; height=200>\n",
    "<h2 style = \"text-align: center\"> \n",
    "Classification with Imported Data (The Iris Flower Dataset)<h2>"
   ]
  },
  {
   "cell_type": "markdown",
   "id": "0f454f72",
   "metadata": {},
   "source": [
    "### Brian La Rosa\n",
    "### <ins>Objectives</ins>\n",
    "- Create and use Machine Learning Models with SciKit Learn\n",
    "- Learn more advanced NumPy (Numerical Python) features\n",
    "- Learn how import data from remote websites (UCI Machine Learning Datasets)\n",
    "- Learn how to import and use SciKit Learn built-in datasets (iris flower dataset)\n",
    "- Train-Test Split of data with SciKit Learn\n",
    "- Perform Classification with SciKit Learn\n",
    "- Create Predictive Models\n",
    "- Perform Model Evaluation\n",
    "- Model Score and Accuracy\n",
    "- Decision Boundary Plotting with MatPlotLib\n"
   ]
  },
  {
   "cell_type": "markdown",
   "id": "43001926",
   "metadata": {},
   "source": [
    "<img src = \"Images/iris.png\" width = 200; height=200>\n",
    "This lab introduces supervised learning, particularly classification, which involves building models to categorize new instances into predefined classes. The iris dataset, containing measurements of iris flowers, serves as an illustrative example. The lab outlines a machine learning project checklist, emphasizing steps such as problem framing, data acquisition, exploration, preparation, model selection, and deployment. The iris dataset is presented as a suitable case for machine learning due to its simplicity and popularity in the field, with resources for further study provided."
   ]
  },
  {
   "cell_type": "code",
   "execution_count": 1,
   "id": "7ede2289",
   "metadata": {},
   "outputs": [],
   "source": [
    "%matplotlib inline\n",
    "import matplotlib.pyplot as plt\n",
    "import numpy as np\n"
   ]
  },
  {
   "cell_type": "code",
   "execution_count": 2,
   "id": "1a1a2742",
   "metadata": {},
   "outputs": [
    {
     "data": {
      "text/html": [
       "<div>\n",
       "<style scoped>\n",
       "    .dataframe tbody tr th:only-of-type {\n",
       "        vertical-align: middle;\n",
       "    }\n",
       "\n",
       "    .dataframe tbody tr th {\n",
       "        vertical-align: top;\n",
       "    }\n",
       "\n",
       "    .dataframe thead th {\n",
       "        text-align: right;\n",
       "    }\n",
       "</style>\n",
       "<table border=\"1\" class=\"dataframe\">\n",
       "  <thead>\n",
       "    <tr style=\"text-align: right;\">\n",
       "      <th></th>\n",
       "      <th>sepal_length</th>\n",
       "      <th>sepal_width</th>\n",
       "      <th>petal_width</th>\n",
       "      <th>class</th>\n",
       "    </tr>\n",
       "  </thead>\n",
       "  <tbody>\n",
       "    <tr>\n",
       "      <th>6.7</th>\n",
       "      <td>3.0</td>\n",
       "      <td>5.2</td>\n",
       "      <td>2.3</td>\n",
       "      <td>Iris-virginica</td>\n",
       "    </tr>\n",
       "    <tr>\n",
       "      <th>6.3</th>\n",
       "      <td>2.5</td>\n",
       "      <td>5.0</td>\n",
       "      <td>1.9</td>\n",
       "      <td>Iris-virginica</td>\n",
       "    </tr>\n",
       "    <tr>\n",
       "      <th>6.5</th>\n",
       "      <td>3.0</td>\n",
       "      <td>5.2</td>\n",
       "      <td>2.0</td>\n",
       "      <td>Iris-virginica</td>\n",
       "    </tr>\n",
       "    <tr>\n",
       "      <th>6.2</th>\n",
       "      <td>3.4</td>\n",
       "      <td>5.4</td>\n",
       "      <td>2.3</td>\n",
       "      <td>Iris-virginica</td>\n",
       "    </tr>\n",
       "    <tr>\n",
       "      <th>5.9</th>\n",
       "      <td>3.0</td>\n",
       "      <td>5.1</td>\n",
       "      <td>1.8</td>\n",
       "      <td>Iris-virginica</td>\n",
       "    </tr>\n",
       "  </tbody>\n",
       "</table>\n",
       "</div>"
      ],
      "text/plain": [
       "     sepal_length  sepal_width  petal_width           class\n",
       "6.7           3.0          5.2          2.3  Iris-virginica\n",
       "6.3           2.5          5.0          1.9  Iris-virginica\n",
       "6.5           3.0          5.2          2.0  Iris-virginica\n",
       "6.2           3.4          5.4          2.3  Iris-virginica\n",
       "5.9           3.0          5.1          1.8  Iris-virginica"
      ]
     },
     "execution_count": 2,
     "metadata": {},
     "output_type": "execute_result"
    }
   ],
   "source": [
    "#Load CSV using Pandas from URL\n",
    "import pandas as pd\n",
    "url = 'http://archive.ics.uci.edu/ml/machine-learning-databases/iris/iris.data'\n",
    "names = ['sepal_length', 'sepal_width', 'petal_width', 'class']\n",
    "iris_df = pd.read_csv(url, names=names)\n",
    "iris_df.tail()"
   ]
  },
  {
   "cell_type": "code",
   "execution_count": 3,
   "id": "c944ca51",
   "metadata": {},
   "outputs": [],
   "source": [
    "from sklearn.datasets import load_iris\n",
    "iris = load_iris()"
   ]
  },
  {
   "cell_type": "markdown",
   "id": "27586157",
   "metadata": {},
   "source": [
    "<p>The Iris object is returned by load_iris is is a <i><b>Bunch object</b></i> that is similar to a <i> python directory object</i> and has <b>keys and values</b></p> "
   ]
  },
  {
   "cell_type": "code",
   "execution_count": 4,
   "id": "ba2f3daf",
   "metadata": {},
   "outputs": [
    {
     "name": "stdout",
     "output_type": "stream",
     "text": [
      "Keys of the iris dataset: \n",
      "dict_keys(['data', 'target', 'frame', 'target_names', 'DESCR', 'feature_names', 'filename', 'data_module'])\n"
     ]
    }
   ],
   "source": [
    "print('Keys of the iris dataset: \\n{}'.format(iris.keys()))"
   ]
  },
  {
   "cell_type": "markdown",
   "id": "e081f33b",
   "metadata": {},
   "source": [
    "The value of the key DESCR is a short description of the dataset(only some of the descriptions is shown below)"
   ]
  },
  {
   "cell_type": "code",
   "execution_count": 5,
   "id": "a4da5cf1",
   "metadata": {},
   "outputs": [
    {
     "name": "stdout",
     "output_type": "stream",
     "text": [
      "\n",
      " .. _iris_dataset:\n",
      "\n",
      "Iris plants dataset\n",
      "--------------------\n",
      "\n",
      "**Data Set Characteristics:**\n",
      "\n",
      "    :Number of Instances: 150 (50 in each of three classes)\n",
      "    :Number of Attributes: 4 numeric, predictive attributes and the class\n",
      "    :Attribute Information:\n",
      "        - sepal length in cm\n",
      "        - sepal width in cm\n",
      "        - petal length in cm\n",
      "        - petal width in cm\n",
      "        - class:\n",
      "                - Iris-Setosa\n",
      "                - Iris-Versicolour\n",
      "                - Iris-Vi\n",
      "...\n"
     ]
    }
   ],
   "source": [
    "print('\\n', iris['DESCR'][:475] + '\\n...')"
   ]
  },
  {
   "cell_type": "markdown",
   "id": "57b88176",
   "metadata": {},
   "source": [
    "<p> The value of the <b><i>target_names</i></b> is an array of string containing the species of the flower that we want to predict:</p>"
   ]
  },
  {
   "cell_type": "code",
   "execution_count": 6,
   "id": "45a22e50",
   "metadata": {},
   "outputs": [
    {
     "name": "stdout",
     "output_type": "stream",
     "text": [
      "Target Names : ['setosa' 'versicolor' 'virginica']\n",
      "Data Type: <class 'numpy.ndarray'>\n"
     ]
    }
   ],
   "source": [
    "#print the encoding scheme for the species: 0 = setosa, 1 = versicolor, 2 = virginica\n",
    "print('Target Names : {}'.format(iris.target_names))\n",
    "\n",
    "print('Data Type: {}'.format(type(iris.target_names)))"
   ]
  },
  {
   "cell_type": "code",
   "execution_count": 7,
   "id": "23710237",
   "metadata": {},
   "outputs": [
    {
     "name": "stdout",
     "output_type": "stream",
     "text": [
      "Feature Names : \n",
      " ['sepal length (cm)', 'sepal width (cm)', 'petal length (cm)', 'petal width (cm)']\n"
     ]
    }
   ],
   "source": [
    "#print the names of the four features\n",
    "print('Feature Names : \\n {}'.format(iris.feature_names))"
   ]
  },
  {
   "cell_type": "code",
   "execution_count": 8,
   "id": "c71b96ec",
   "metadata": {},
   "outputs": [
    {
     "name": "stdout",
     "output_type": "stream",
     "text": [
      "Shape of the data: (150, 4)\n"
     ]
    }
   ],
   "source": [
    "print('Shape of the data: {}'.format(iris.data.shape))"
   ]
  },
  {
   "cell_type": "code",
   "execution_count": 9,
   "id": "c33adadd",
   "metadata": {},
   "outputs": [
    {
     "name": "stdout",
     "output_type": "stream",
     "text": [
      "[0 0 0 0 0 0 0 0 0 0 0 0 0 0 0 0 0 0 0 0 0 0 0 0 0 0 0 0 0 0 0 0 0 0 0 0 0\n",
      " 0 0 0 0 0 0 0 0 0 0 0 0 0 1 1 1 1 1 1 1 1 1 1 1 1 1 1 1 1 1 1 1 1 1 1 1 1\n",
      " 1 1 1 1 1 1 1 1 1 1 1 1 1 1 1 1 1 1 1 1 1 1 1 1 1 1 2 2 2 2 2 2 2 2 2 2 2\n",
      " 2 2 2 2 2 2 2 2 2 2 2 2 2 2 2 2 2 2 2 2 2 2 2 2 2 2 2 2 2 2 2 2 2 2 2 2 2\n",
      " 2 2]\n"
     ]
    }
   ],
   "source": [
    "# print integeres representing the species of each observation\n",
    "print(iris.target)"
   ]
  },
  {
   "cell_type": "code",
   "execution_count": 10,
   "id": "5fe3e7c4",
   "metadata": {},
   "outputs": [
    {
     "name": "stdout",
     "output_type": "stream",
     "text": [
      "Class labels: [0 1 2]\n",
      "Class proportions: [50 50 50]\n"
     ]
    }
   ],
   "source": [
    "#We use all 4 features of the dataset\n",
    "X, y = iris.data[:, :4], iris.target\n",
    "#print (X)\n",
    "print('Class labels:', np.unique(y))\n",
    "print('Class proportions:', np.bincount(y))"
   ]
  },
  {
   "cell_type": "markdown",
   "id": "83dfc84e",
   "metadata": {},
   "source": [
    "### <b>Test/train splits of data</b>\n",
    "<p>scikit learn contains a function called the <b>train_test_split</b> function that will randomely shuffle the dataset and then splits it into two datasets: a <b> training set</b> use to build the model and a <b> test set</b> tp assess and evaluate how well the model works on unseen data (also called out of sample data). The train_test_split function y default does a 75% / 25% train/test split but the split can be modified by tuning the parameters of the function as indicated below in the code.</p> "
   ]
  },
  {
   "cell_type": "code",
   "execution_count": 11,
   "id": "82e353a5",
   "metadata": {},
   "outputs": [
    {
     "name": "stdout",
     "output_type": "stream",
     "text": [
      "Class labels of y_train: [0 1 2]\n",
      "Class proportions of y_train: [35 35 35]\n"
     ]
    }
   ],
   "source": [
    "from sklearn.model_selection import train_test_split\n",
    "\n",
    "#test_size = .25 means the test consists of 25% of the data\n",
    "X_train, X_test, y_train, y_test, = train_test_split(\n",
    "    X, y, test_size = .3, random_state=123,\n",
    "    stratify=y)\n",
    "print('Class labels of y_train:', np.unique(y_train))\n",
    "print('Class proportions of y_train:', np.bincount(y_train))"
   ]
  },
  {
   "cell_type": "markdown",
   "id": "5fb38eab",
   "metadata": {},
   "source": [
    "It is best practice to preform the split in such a way that our split refelcts the labels in the data. In other words, we want labels to be split in train and test set. \n",
    "<img src = \"Images/train_test_split.png\" width = 600; height=600>\n",
    "<br>\n",
    "What did this accomplish?\n",
    "- model can be trained and tested on different data\n",
    "- Response values are known for the testing set, and thus predictions can be valuated. \n",
    "- Testing accuracy is better estimate than training accuracy of out-of-sample preformance. "
   ]
  },
  {
   "cell_type": "code",
   "execution_count": 12,
   "id": "d2201447",
   "metadata": {},
   "outputs": [
    {
     "name": "stdout",
     "output_type": "stream",
     "text": [
      "X_train shape of the data : (105, 4)\n",
      "y_train Shape of the data : (105,)\n"
     ]
    }
   ],
   "source": [
    "print('X_train shape of the data : {}'.format(X_train.shape))\n",
    "print('y_train Shape of the data : {}'.format(y_train.shape))"
   ]
  },
  {
   "cell_type": "code",
   "execution_count": 13,
   "id": "28123295",
   "metadata": {},
   "outputs": [
    {
     "name": "stdout",
     "output_type": "stream",
     "text": [
      "X_test shape if the data : (45, 4)\n",
      "y_test shape if the data : (45,)\n"
     ]
    }
   ],
   "source": [
    "print('X_test shape if the data : {}'.format(X_test.shape))\n",
    "print('y_test shape if the data : {}'.format(y_test.shape))"
   ]
  },
  {
   "cell_type": "markdown",
   "id": "bd88cf15",
   "metadata": {},
   "source": [
    "### K-Nearest Neibors Fit (K=3)\n",
    "<p>import the KNN Clasifier and let's also import the function to claculate some metrics"
   ]
  },
  {
   "cell_type": "code",
   "execution_count": 14,
   "id": "a9cf6958",
   "metadata": {},
   "outputs": [],
   "source": [
    "from sklearn.neighbors import KNeighborsClassifier\n",
    "from sklearn import metrics\n",
    "#pick 3-nearest neighbors\n",
    "knn = KNeighborsClassifier(n_neighbors=3)"
   ]
  },
  {
   "cell_type": "code",
   "execution_count": 15,
   "id": "76299bd4",
   "metadata": {},
   "outputs": [
    {
     "name": "stdout",
     "output_type": "stream",
     "text": [
      "KNeighborsClassifier(n_neighbors=3)\n"
     ]
    }
   ],
   "source": [
    "#print information on the model\n",
    "print(knn)"
   ]
  },
  {
   "cell_type": "markdown",
   "id": "dc172816",
   "metadata": {},
   "source": [
    "<b>Train the model<b>\n",
    "Here we fit(train) the KNN model to the training datasets"
   ]
  },
  {
   "cell_type": "code",
   "execution_count": 16,
   "id": "efd907fe",
   "metadata": {},
   "outputs": [
    {
     "data": {
      "text/html": [
       "<style>#sk-container-id-1 {color: black;}#sk-container-id-1 pre{padding: 0;}#sk-container-id-1 div.sk-toggleable {background-color: white;}#sk-container-id-1 label.sk-toggleable__label {cursor: pointer;display: block;width: 100%;margin-bottom: 0;padding: 0.3em;box-sizing: border-box;text-align: center;}#sk-container-id-1 label.sk-toggleable__label-arrow:before {content: \"▸\";float: left;margin-right: 0.25em;color: #696969;}#sk-container-id-1 label.sk-toggleable__label-arrow:hover:before {color: black;}#sk-container-id-1 div.sk-estimator:hover label.sk-toggleable__label-arrow:before {color: black;}#sk-container-id-1 div.sk-toggleable__content {max-height: 0;max-width: 0;overflow: hidden;text-align: left;background-color: #f0f8ff;}#sk-container-id-1 div.sk-toggleable__content pre {margin: 0.2em;color: black;border-radius: 0.25em;background-color: #f0f8ff;}#sk-container-id-1 input.sk-toggleable__control:checked~div.sk-toggleable__content {max-height: 200px;max-width: 100%;overflow: auto;}#sk-container-id-1 input.sk-toggleable__control:checked~label.sk-toggleable__label-arrow:before {content: \"▾\";}#sk-container-id-1 div.sk-estimator input.sk-toggleable__control:checked~label.sk-toggleable__label {background-color: #d4ebff;}#sk-container-id-1 div.sk-label input.sk-toggleable__control:checked~label.sk-toggleable__label {background-color: #d4ebff;}#sk-container-id-1 input.sk-hidden--visually {border: 0;clip: rect(1px 1px 1px 1px);clip: rect(1px, 1px, 1px, 1px);height: 1px;margin: -1px;overflow: hidden;padding: 0;position: absolute;width: 1px;}#sk-container-id-1 div.sk-estimator {font-family: monospace;background-color: #f0f8ff;border: 1px dotted black;border-radius: 0.25em;box-sizing: border-box;margin-bottom: 0.5em;}#sk-container-id-1 div.sk-estimator:hover {background-color: #d4ebff;}#sk-container-id-1 div.sk-parallel-item::after {content: \"\";width: 100%;border-bottom: 1px solid gray;flex-grow: 1;}#sk-container-id-1 div.sk-label:hover label.sk-toggleable__label {background-color: #d4ebff;}#sk-container-id-1 div.sk-serial::before {content: \"\";position: absolute;border-left: 1px solid gray;box-sizing: border-box;top: 0;bottom: 0;left: 50%;z-index: 0;}#sk-container-id-1 div.sk-serial {display: flex;flex-direction: column;align-items: center;background-color: white;padding-right: 0.2em;padding-left: 0.2em;position: relative;}#sk-container-id-1 div.sk-item {position: relative;z-index: 1;}#sk-container-id-1 div.sk-parallel {display: flex;align-items: stretch;justify-content: center;background-color: white;position: relative;}#sk-container-id-1 div.sk-item::before, #sk-container-id-1 div.sk-parallel-item::before {content: \"\";position: absolute;border-left: 1px solid gray;box-sizing: border-box;top: 0;bottom: 0;left: 50%;z-index: -1;}#sk-container-id-1 div.sk-parallel-item {display: flex;flex-direction: column;z-index: 1;position: relative;background-color: white;}#sk-container-id-1 div.sk-parallel-item:first-child::after {align-self: flex-end;width: 50%;}#sk-container-id-1 div.sk-parallel-item:last-child::after {align-self: flex-start;width: 50%;}#sk-container-id-1 div.sk-parallel-item:only-child::after {width: 0;}#sk-container-id-1 div.sk-dashed-wrapped {border: 1px dashed gray;margin: 0 0.4em 0.5em 0.4em;box-sizing: border-box;padding-bottom: 0.4em;background-color: white;}#sk-container-id-1 div.sk-label label {font-family: monospace;font-weight: bold;display: inline-block;line-height: 1.2em;}#sk-container-id-1 div.sk-label-container {text-align: center;}#sk-container-id-1 div.sk-container {/* jupyter's `normalize.less` sets `[hidden] { display: none; }` but bootstrap.min.css set `[hidden] { display: none !important; }` so we also need the `!important` here to be able to override the default hidden behavior on the sphinx rendered scikit-learn.org. See: https://github.com/scikit-learn/scikit-learn/issues/21755 */display: inline-block !important;position: relative;}#sk-container-id-1 div.sk-text-repr-fallback {display: none;}</style><div id=\"sk-container-id-1\" class=\"sk-top-container\"><div class=\"sk-text-repr-fallback\"><pre>KNeighborsClassifier(n_neighbors=3)</pre><b>In a Jupyter environment, please rerun this cell to show the HTML representation or trust the notebook. <br />On GitHub, the HTML representation is unable to render, please try loading this page with nbviewer.org.</b></div><div class=\"sk-container\" hidden><div class=\"sk-item\"><div class=\"sk-estimator sk-toggleable\"><input class=\"sk-toggleable__control sk-hidden--visually\" id=\"sk-estimator-id-1\" type=\"checkbox\" checked><label for=\"sk-estimator-id-1\" class=\"sk-toggleable__label sk-toggleable__label-arrow\">KNeighborsClassifier</label><div class=\"sk-toggleable__content\"><pre>KNeighborsClassifier(n_neighbors=3)</pre></div></div></div></div></div>"
      ],
      "text/plain": [
       "KNeighborsClassifier(n_neighbors=3)"
      ]
     },
     "execution_count": 16,
     "metadata": {},
     "output_type": "execute_result"
    }
   ],
   "source": [
    "knn.fit(X_train, y_train)\n"
   ]
  },
  {
   "cell_type": "markdown",
   "id": "432775f3",
   "metadata": {},
   "source": [
    "<b>Now that the model has been trained let's send it the test dataset to see what it predicts</b><br>\n",
    "we will store the results of its predictions into a vector we call y_pred:\n"
   ]
  },
  {
   "cell_type": "code",
   "execution_count": 17,
   "id": "824f8bee",
   "metadata": {},
   "outputs": [],
   "source": [
    "y_pred = knn.predict(X_test)"
   ]
  },
  {
   "cell_type": "markdown",
   "id": "23cf237e",
   "metadata": {},
   "source": [
    "<b>We will print both the predictions and the actual values for visual inspection</b>"
   ]
  },
  {
   "cell_type": "code",
   "execution_count": 18,
   "id": "be3fc8e6",
   "metadata": {},
   "outputs": [
    {
     "name": "stdout",
     "output_type": "stream",
     "text": [
      "test set predictions: \n",
      " [2 2 1 1 2 0 0 1 0 0 2 0 2 0 1 0 2 2 0 0 0 0 0 1 0 1 2 0 1 2 2 2 2 1 1 1 2\n",
      " 2 2 0 2 1 1 2 1]\n",
      "actual true valyes: \n",
      "[1 2 1 1 2 0 0 1 0 0 2 0 2 0 1 0 2 2 0 0 0 0 0 1 0 1 2 0 1 2 2 2 2 1 1 1 2\n",
      " 1 2 0 2 1 1 2 1]\n"
     ]
    }
   ],
   "source": [
    "print(\"test set predictions: \\n {}\".format(y_pred))\n",
    "print(\"actual true valyes: \\n{}\".format(y_test))"
   ]
  },
  {
   "cell_type": "markdown",
   "id": "a6ea6521",
   "metadata": {},
   "source": [
    "### Evaluating the K-nearest neighbors model\n",
    "1) First we will use the built in scoring method. We did this by sending the test sets "
   ]
  },
  {
   "cell_type": "code",
   "execution_count": 19,
   "id": "3113dce3",
   "metadata": {},
   "outputs": [
    {
     "name": "stdout",
     "output_type": "stream",
     "text": [
      "Test accuracy: 0.96\n"
     ]
    }
   ],
   "source": [
    "print('Test accuracy: {0:0.2f}'.format(knn.score(X_test, y_test)))"
   ]
  },
  {
   "cell_type": "markdown",
   "id": "adda29cf",
   "metadata": {},
   "source": [
    "2) making a new prediction off of a new value for each column"
   ]
  },
  {
   "cell_type": "code",
   "execution_count": 20,
   "id": "fe9cac45",
   "metadata": {},
   "outputs": [
    {
     "name": "stdout",
     "output_type": "stream",
     "text": [
      "X_new.shape is: (1, 4)\n"
     ]
    }
   ],
   "source": [
    "#Reshaping the array\n",
    "X_new = np.array([[5, 2.9, 1, 0.2]])\n",
    "print('X_new.shape is: {}'.format(X_new.shape))"
   ]
  },
  {
   "cell_type": "code",
   "execution_count": 21,
   "id": "3f209694",
   "metadata": {},
   "outputs": [
    {
     "name": "stdout",
     "output_type": "stream",
     "text": [
      "prediction: [0]\n",
      "Predicted Target Name: ['setosa']\n"
     ]
    }
   ],
   "source": [
    "prediction = knn.predict(X_new)\n",
    "print(\"prediction: {}\".format(prediction))\n",
    "print(\"Predicted Target Name: {}\".format(iris['target_names'][prediction]))"
   ]
  },
  {
   "cell_type": "markdown",
   "id": "a17dbd13",
   "metadata": {},
   "source": [
    "### To make a prediction let's again call the predict method the K-nearest neighbors object:"
   ]
  },
  {
   "cell_type": "code",
   "execution_count": 22,
   "id": "59bf5303",
   "metadata": {},
   "outputs": [
    {
     "name": "stdout",
     "output_type": "stream",
     "text": [
      "Prediction: [0]\n",
      "Predicted Target Name : ['setosa']\n"
     ]
    }
   ],
   "source": [
    "prediction = knn.predict(X_new)\n",
    "print(\"Prediction: {}\".format(prediction))\n",
    "print(\"Predicted Target Name : {}\".format(iris['target_names'][prediction]))"
   ]
  },
  {
   "cell_type": "markdown",
   "id": "b9c47c28",
   "metadata": {},
   "source": [
    "### So, based on our earlier analysis of the model's test set accuracy of 96% (which means that it made theright prediction 96% of the time), this high level of accuracy may be good enough to use for classifying unknown iris species!"
   ]
  },
  {
   "cell_type": "code",
   "execution_count": 23,
   "id": "143d5e56",
   "metadata": {
    "scrolled": true
   },
   "outputs": [
    {
     "name": "stdout",
     "output_type": "stream",
     "text": [
      "KNeighborsClassifier(n_neighbors=1)\n",
      "KNeighborsClassifier(n_neighbors=2)\n",
      "KNeighborsClassifier(n_neighbors=3)\n",
      "KNeighborsClassifier(n_neighbors=4)\n",
      "KNeighborsClassifier()\n",
      "KNeighborsClassifier(n_neighbors=6)\n",
      "KNeighborsClassifier(n_neighbors=7)\n",
      "KNeighborsClassifier(n_neighbors=8)\n",
      "KNeighborsClassifier(n_neighbors=9)\n",
      "KNeighborsClassifier(n_neighbors=10)\n",
      "KNeighborsClassifier(n_neighbors=11)\n",
      "KNeighborsClassifier(n_neighbors=12)\n",
      "KNeighborsClassifier(n_neighbors=13)\n",
      "KNeighborsClassifier(n_neighbors=14)\n",
      "KNeighborsClassifier(n_neighbors=15)\n",
      "KNeighborsClassifier(n_neighbors=16)\n",
      "KNeighborsClassifier(n_neighbors=17)\n",
      "KNeighborsClassifier(n_neighbors=18)\n",
      "KNeighborsClassifier(n_neighbors=19)\n",
      "KNeighborsClassifier(n_neighbors=20)\n",
      "KNeighborsClassifier(n_neighbors=21)\n",
      "KNeighborsClassifier(n_neighbors=22)\n",
      "KNeighborsClassifier(n_neighbors=23)\n",
      "KNeighborsClassifier(n_neighbors=24)\n",
      "KNeighborsClassifier(n_neighbors=25)\n",
      "[0.9555555555555556, 0.9555555555555556, 0.9555555555555556, 0.9555555555555556, 0.9555555555555556, 0.9333333333333333, 0.9555555555555556, 0.9777777777777777, 0.9555555555555556, 0.9777777777777777, 0.9777777777777777, 0.9777777777777777, 0.9555555555555556, 0.9333333333333333, 0.9555555555555556, 0.9555555555555556, 0.9777777777777777, 0.9777777777777777, 0.9555555555555556, 0.9555555555555556, 0.9555555555555556, 0.9555555555555556, 0.9555555555555556, 0.9555555555555556, 0.9333333333333333]\n",
      "[1, 2, 3, 4, 5, 6, 7, 8, 9, 10, 11, 12, 13, 14, 15, 16, 17, 18, 19, 20, 21, 22, 23, 24, 25]\n"
     ]
    },
    {
     "data": {
      "image/png": "[encoded data removed]",
      "text/plain": [
       "<Figure size 640x480 with 1 Axes>"
      ]
     },
     "metadata": {},
     "output_type": "display_data"
    }
   ],
   "source": [
    "from sklearn.neighbors import KNeighborsClassifier\n",
    "from sklearn import metrics\n",
    "\n",
    "#creating the python lists to be used\n",
    "k_list = []\n",
    "pred_list = []\n",
    "#using the range function to count from 1 to 25\n",
    "for k in range(1, 26):\n",
    "    knn = KNeighborsClassifier(n_neighbors=k)\n",
    "    print(knn)\n",
    "    knn.fit(X_train, y_train)\n",
    "    knn.predict(X_test)\n",
    "    y_pred = knn.predict(X_test)\n",
    "    \n",
    "    #Saving the data to python lists using the append function\n",
    "    k_list.append(k)\n",
    "    pred_list.append(metrics.accuracy_score(y_test, y_pred))\n",
    "    \n",
    "    #print('Test accuracy (using knn.score()) for k = {0} is : {1:0.2f}'.format(k, knn.score(X_test, y_test)))\n",
    "    #print(\"Model's Predicitve Accuracy for k = {0} is: {1:0.2f}\".format(k, metrics.accuracy_score(y_test, y_pred)))\n",
    "    #print('Misclassified samples for k = {0} are {1}\\n'.format(k, (y_pred != y_test).sum()))\n",
    "print(pred_list)\n",
    "print(k_list)\n",
    "plt.plot(k_list, pred_list)\n",
    "plt.xlabel('K value')\n",
    "plt.ylabel('Score/Accuracy')\n",
    "plt.title('K-Value Accuracy Relationship')\n",
    "plt.savefig('Data/plot.pdf')\n",
    "plt.show()\n",
    "\n",
    "    "
   ]
  },
  {
   "cell_type": "markdown",
   "id": "8ed1f4d9",
   "metadata": {},
   "source": [
    "Questions: \n",
    "    What is the best K to use for K-Nearest Neighbors Classifiers? Answer this by:\n",
    "- Trying K=1 through K=25 and record the testing accuracy (score).\n",
    "    - HINT: Modify code above. Use a loop similar to the one in the code snippet above!\n",
    "        - After each iteration, instead of printing K and the score (accuracy), save them in two separate python lists for plotting using matplotlib.\n",
    "        - Plot the testing accuracy versus K for each K (K on the x-axis)\n",
    "    - What would be possible ways to resolve ties in KNN when n_neighbors is an even number?\n",
    "    - Do some research and find the right spot in the scikit-learn documentation (Google: scikit learn knn break tie) (or some other online resource) to read about how to handles this. What did you find?"
   ]
  },
  {
   "cell_type": "markdown",
   "id": "851b8aee",
   "metadata": {},
   "source": [
    "# Answers\n",
    "\n",
    "- Possible ways to resolve ties in KNN when n_neighbors is an even number \n",
    "would be to use the weighted function in ScikitLearn. By assinging weights to the classes of classification, in the event of a tie, the predict method will predict the class that is weighted \n",
    "the nearest. \n",
    "<br>\n",
    "- Another possible way to solve this issue would be to pick randomely between the tie. This is only reasonable if it is done at complete random. \n",
    "<br>\n",
    "- Another way is to just make the k value odd, but this feels like poor programming because it can't handle every instance of k. <br>\n",
    "    Cites:\n",
    "    <https://scikit-learn.org/stable/modules/generated/sklearn.neighbors.KNeighborsClassifier.html>\n",
    "    <https://www.linkedin.com/pulse/breaking-ties-k-nn-classification-nicholas-pylypiw/>\n",
    "       "
   ]
  },
  {
   "cell_type": "code",
   "execution_count": null,
   "id": "63c22f75",
   "metadata": {},
   "outputs": [],
   "source": []
  }
 ],
 "metadata": {
  "kernelspec": {
   "display_name": "Python 3 (ipykernel)",
   "language": "python",
   "name": "python3"
  },
  "language_info": {
   "codemirror_mode": {
    "name": "ipython",
    "version": 3
   },
   "file_extension": ".py",
   "mimetype": "text/x-python",
   "name": "python",
   "nbconvert_exporter": "python",
   "pygments_lexer": "ipython3",
   "version": "3.11.5"
  }
 },
 "nbformat": 4,
 "nbformat_minor": 5
}
